{
 "cells": [
  {
   "cell_type": "markdown",
   "metadata": {},
   "source": [
    "# Contoso Sales Analysis Assistant"
   ]
  },
  {
   "cell_type": "markdown",
   "metadata": {},
   "source": [
    "The following notebook includes a version of [demo 3](./demo-3-contoso-sales-analysis.ipynb) which uses [Azure AI Agent Service](https://techcommunity.microsoft.com/blog/azure-ai-services-blog/introducing-azure-ai-agent-service/4298357) to build the Contoso Sales Assistant.\n",
    "\n",
    "## Azure AI Agent Service\n",
    "Azure AI Agent service builds upon Azure OpenAI Assistants API to provide an enterprise-grade** solution for building scalable agents safely and securely. It integrates with an **extensive ecosystem of tools** to enable agents to ground their knowledge in real-time data (e.g. Azure AI Search, Sharepoint and Bing Search) and to **act on behalf of users** (e.g. Logic Apps and Azure Functions).\n",
    "Azure AI Agent Service also allows a flexible model choice, going beyond the OpenAI collection. \n",
    "\n",
    "The service is accessible through the [Azure AI Foundry SDK](https://techcommunity.microsoft.com/blog/aiplatformblog/ignite-2024-announcing-the-azure-ai-foundry-sdk/4295862), which provides a simplified coding experience to build AI applications. "
   ]
  },
  {
   "cell_type": "markdown",
   "metadata": {},
   "source": [
    "> The Azure AI Agent Service is currently in **private preview**. This early stage of development means the product is actively evovling, with significant updates and improvements expected. Users should anticipate changes as we work towards refining features, enhancing functionality, and expanding capabilities. We welcome feedback and contributions during this phase to help shape the future of the product.\n",
    "[Join the waitlist](https://nam.dcv.ms/nzy5CEG6Br) to get access to the private preview."
   ]
  },
  {
   "cell_type": "markdown",
   "metadata": {},
   "source": [
    "## Installation\n",
    "\n",
    "Refer to the README.md file in this folder for installation instructions."
   ]
  },
  {
   "cell_type": "markdown",
   "metadata": {},
   "source": [
    "### Load parameters"
   ]
  },
  {
   "cell_type": "code",
   "execution_count": 1,
   "metadata": {},
   "outputs": [],
   "source": [
    "import os\n",
    "from datetime import datetime\n",
    "from typing import Any, Callable, Iterable, Set\n",
    "\n",
    "from PIL import Image\n",
    "from IPython.display import display, HTML\n",
    "from dotenv import load_dotenv\n",
    "from azure.identity import DefaultAzureCredential\n",
    "from azure.ai.projects import AIProjectClient\n",
    "from azure.ai.projects.models import (\n",
    "    CodeInterpreterTool,\n",
    "    FunctionTool,\n",
    "    MessageImageFileContent,\n",
    "    MessageTextContent,\n",
    "    RequiredFunctionToolCall,\n",
    "    SubmitToolOutputsAction,\n",
    "    ThreadMessage,\n",
    "    ThreadRun,\n",
    "    ToolOutput,\n",
    "    ToolSet,\n",
    "    FileSearchTool,\n",
    "    BingGroundingTool,\n",
    "    RunStatus\n",
    ")\n",
    "\n",
    "from sales_data import SalesData\n",
    "\n",
    "load_dotenv(\".env\")\n",
    "\n",
    "MODEL_DEPLOYMEMT_NAME = os.getenv(\"MODEL_DEPLOYMENT_NAME\")\n",
    "\n",
    "thread = None\n",
    "agent = None"
   ]
  },
  {
   "cell_type": "markdown",
   "metadata": {},
   "source": [
    "### Initialize the SQLite Contoso sales database"
   ]
  },
  {
   "cell_type": "code",
   "execution_count": null,
   "metadata": {},
   "outputs": [],
   "source": [
    "sales_data = SalesData()\n",
    "sales_data.connect()\n",
    "db_info = sales_data.get_database_info()\n",
    "print(db_info)"
   ]
  },
  {
   "cell_type": "markdown",
   "metadata": {},
   "source": [
    "### Create an AI Project client"
   ]
  },
  {
   "cell_type": "code",
   "execution_count": 3,
   "metadata": {},
   "outputs": [],
   "source": [
    "project_client = AIProjectClient.from_connection_string(\n",
    "    credential=DefaultAzureCredential(), conn_str=os.environ[\"PROJECT_CONNECTION_STRING\"]\n",
    ")"
   ]
  },
  {
   "cell_type": "markdown",
   "metadata": {},
   "source": [
    "### Set the Assistant instruction context\n",
    "\n",
    "Sets the context for the conversation. The instructions are equivalent to setting the system message for an OpenAI chat completion."
   ]
  },
  {
   "cell_type": "code",
   "execution_count": 4,
   "metadata": {},
   "outputs": [],
   "source": [
    "instructions = (\n",
    "    \"You are an advanced sales analysis assistant for Contoso, specializing in assisting users with sales data inquiries. Maintain a polite, professional, helpful, and friendly demeanor at all times.\",\n",
    "\n",
    "    \"Use the `fetch_sales_data_using_sqlite_query` function to execute sales data queries, defaulting to aggregated data unless a detailed breakdown is requested. The function returns JSON-formatted results.\",\n",
    "    \"Use the `file_search` tool to retrieve product information from uploaded files when relevant. Prioritize Contoso sales database data over files when responding.\",\n",
    "    \"Use the `bing_grounding` tool to provide additional context for example you want competitive analysis for a product, you can use the bing_grounding tool to get the top 5 search results for that product.\",\n",
    "\n",
    "    f\"Refer to the Contoso sales database schema: {db_info}.\",\n",
    "\n",
    "    \"When asked for 'help,' provide example queries such as:\",\n",
    "    \"- 'What was last quarter's revenue?'\",\n",
    "    \"- 'Top-selling products in Europe?'\",\n",
    "    \"- 'Total shipping costs by region?'\",\n",
    "\n",
    "    \"Responsibilities:\",\n",
    "    \"1. Data Analysis: Provide clear insights based on available sales data.\",\n",
    "    \"2. Visualizations: Generate charts or graphs to illustrate trends.\",\n",
    "    \"3. Scope Awareness:\",\n",
    "    \"   - For non-sales-related or out-of-scope questions, reply with:\",\n",
    "    \"     'I'm unable to assist with that. Please contact IT for further assistance.'\",\n",
    "    \"   - For help requests, suggest actionable and relevant questions.\",\n",
    "    \"4. Handling Difficult Interactions:\",\n",
    "    \"   - Remain calm and professional when dealing with upset or hostile users.\",\n",
    "    \"   - Respond with: 'I'm here to help with your sales data inquiries. If you need further assistance, please contact IT.'\",\n",
    "\n",
    "    \"Conduct Guidelines:\",\n",
    "    \"- Always maintain a professional and courteous tone.\",\n",
    "    # \"- Only use data from the Contoso sales database.\",\n",
    "    \"- Avoid sharing sensitive or confidential information.\",\n",
    "    \"- For questions outside your expertise or unclear queries, respond with:\",\n",
    "    \"  'I'm unable to assist with that. Please ask more specific questions about Contoso sales or contact IT for help.'\"\n",
    ")"
   ]
  },
  {
   "cell_type": "markdown",
   "metadata": {},
   "source": [
    "### Upload the contoso tents datashare pdf\n",
    "\n",
    "1. The file is uploaded to the Azure AI Agent Service.\n",
    "1. Then vectorize the PDF and stored in a semantic search index.\n",
    "1. Becomes available for the agent to search through."
   ]
  },
  {
   "cell_type": "code",
   "execution_count": null,
   "metadata": {},
   "outputs": [],
   "source": [
    "file = project_client.agents.upload_file_and_poll(file_path=\"../../datasheet/contoso-tents-datasheet.pdf\", purpose=\"assistants\")\n",
    "print(f\"Uploaded file, file ID: {file.id}\")\n",
    "\n",
    "vector_store = project_client.agents.create_vector_store_and_poll(file_ids=[file.id], name=\"my_vectorstore\")\n",
    "print(f\"Created vector store, vector store ID: {vector_store.id}\")"
   ]
  },
  {
   "cell_type": "code",
   "execution_count": null,
   "metadata": {},
   "outputs": [],
   "source": [
    "bing_connection = project_client.connections.get(\n",
    "    connection_name=os.environ[\"BING_CONNECTION_NAME\"]\n",
    ")\n",
    "conn_id = bing_connection.id\n",
    "print(conn_id)"
   ]
  },
  {
   "cell_type": "markdown",
   "metadata": {},
   "source": [
    "### Define the Agent tools\n",
    "\n",
    "The are three tools defined:\n",
    "\n",
    "1. code interpreter tool\n",
    "1. function calling tool: `fetch_sales_data_using_sqlite_query`: This function returns the sales from the SQLite database.\n",
    "1. search tool: `search_contoso_tents_datashare_pdf`: This function searches the uploaded PDF file."
   ]
  },
  {
   "cell_type": "code",
   "execution_count": 7,
   "metadata": {},
   "outputs": [],
   "source": [
    "user_functions: Set[Callable[..., Any]] = {\n",
    "    sales_data.fetch_sales_data_using_sqlite_query,\n",
    "}\n",
    "\n",
    "function_calling_tool = FunctionTool(functions=user_functions)\n",
    "code_interpreter_tool = CodeInterpreterTool()\n",
    "file_search_tool = FileSearchTool(vector_store_ids=[vector_store.id])\n",
    "bing_grounding_tool = BingGroundingTool(connection_id=conn_id)\n",
    "\n",
    "toolset = ToolSet()\n",
    "toolset.add(function_calling_tool)\n",
    "toolset.add(code_interpreter_tool)\n",
    "toolset.add(file_search_tool)\n",
    "toolset.add(bing_grounding_tool)   "
   ]
  },
  {
   "cell_type": "code",
   "execution_count": 8,
   "metadata": {},
   "outputs": [],
   "source": [
    "def print_in_color(key, value):\n",
    "    display(HTML(f\"<span style='color: green;font-weight: bold;font-size: medium;'>{key}</span> \"\n",
    "            f\"<span style='color: blue;font-weight: bold;font-size: medium;'>{value}</span>\"))"
   ]
  },
  {
   "cell_type": "markdown",
   "metadata": {},
   "source": [
    "### Process Function calling\n",
    "\n",
    "Loops through the conversation and calls the appropriate function based on the user input."
   ]
  },
  {
   "cell_type": "markdown",
   "metadata": {},
   "source": [
    "### Format and display the Agent Messages for text and images\n",
    "\n",
    "Utility functions to format and display the Agent messages."
   ]
  },
  {
   "cell_type": "code",
   "execution_count": 9,
   "metadata": {},
   "outputs": [],
   "source": [
    "def format_messages(messages: Iterable[ThreadMessage]) -> None:\n",
    "    last_msg = messages.get_last_message_by_sender(\"assistant\")\n",
    "\n",
    "    if last_msg:\n",
    "        for content in last_msg.content:\n",
    "            if isinstance(content, MessageTextContent):\n",
    "                print(f\"Last Message: {content.text.value}\")\n",
    "\n",
    "            if isinstance(content, MessageImageFileContent):\n",
    "                print_in_color(\"Image File ID:\", content.image_file.file_id)\n",
    "                file_name = f\"{content.image_file.file_id}_image_file.png\"\n",
    "                project_client.agents.save_file(\n",
    "                    file_id=content.image_file.file_id, file_name=file_name)\n",
    "                image = Image.open(file_name)\n",
    "                image = image.resize(\n",
    "                    (image.width // 2, image.height // 2), Image.LANCZOS)\n",
    "                project_client.agents.delete_file(content.image_file.file_id)\n",
    "                display(image)"
   ]
  },
  {
   "cell_type": "markdown",
   "metadata": {},
   "source": [
    "### Process the user messages\n",
    "\n",
    "Loops through the conversation and calls the appropriate function based on the user input."
   ]
  },
  {
   "cell_type": "code",
   "execution_count": 10,
   "metadata": {},
   "outputs": [],
   "source": [
    "def format_run_steps(run_steps_data):\n",
    "    tool_formatters = {\n",
    "        'function': lambda tool_call: f\"Name: {tool_call['function']['name']}, Arguments: {tool_call['function']['arguments']}\",\n",
    "        'file_search': lambda tool_call: f\"Tool Type: {tool_call['type']}, Results: {tool_call['file_search']['results']}\",\n",
    "        'bing_grounding': lambda tool_call: f\"RequestUrl: {tool_call['bing_grounding']['requesturl']}\"\n",
    "    }\n",
    "\n",
    "    for step in run_steps_data:\n",
    "        if step['type'] == 'tool_calls':\n",
    "            for tool_call in step['step_details']['tool_calls']:\n",
    "                tool_type = tool_call['type']\n",
    "                print(f\"Tool type: {tool_call['type']}\", end=\": \")\n",
    "                print(tool_formatters.get(tool_type, lambda _: \"Unknown tool type\")(tool_call))"
   ]
  },
  {
   "cell_type": "code",
   "execution_count": 11,
   "metadata": {},
   "outputs": [],
   "source": [
    "def process_message(content: str) -> None:\n",
    "    # Create message to thread\n",
    "    message = project_client.agents.create_message(\n",
    "        thread_id=thread.id,\n",
    "        role=\"user\",\n",
    "        content=content\n",
    "    )\n",
    "    print_in_color(\"Created message ID:\", message.id)\n",
    "\n",
    "    run = project_client.agents.create_and_process_run(thread_id=thread.id, assistant_id=agent.id)\n",
    "    print(f\"Run finished with status: {run.status}\")\n",
    "    if run.status == RunStatus.FAILED:\n",
    "        print(f\"Run failed with error: {run.last_error}\")\n",
    "\n",
    "    run_steps = project_client.agents.list_run_steps(run_id=run.id, thread_id=thread.id)\n",
    "    run_steps_data = run_steps['data']\n",
    "\n",
    "\n",
    "    format_run_steps(run_steps_data)\n",
    "\n",
    "    # Fetch and log all messages\n",
    "    print(\"\\nFetching and logging messages...\")\n",
    "    messages = project_client.agents.list_messages(thread_id=thread.id)\n",
    "    format_messages(messages)\n",
    "\n"
   ]
  },
  {
   "cell_type": "markdown",
   "metadata": {},
   "source": [
    "### Create an Agent Object\n",
    "\n",
    "The Agent is responsible for managing the conversation with the user."
   ]
  },
  {
   "cell_type": "code",
   "execution_count": null,
   "metadata": {},
   "outputs": [],
   "source": [
    "agent = project_client.agents.create_agent(\n",
    "    model=MODEL_DEPLOYMEMT_NAME,\n",
    "    name=\"Contoso Sales Assistant\",\n",
    "    instructions=\"\\n\".join(instructions),\n",
    "    toolset=toolset,\n",
    "    temperature=0.2,\n",
    "    headers={\"x-ms-enable-preview\": \"true\"},\n",
    ")\n",
    "print(f\"Created agent, ID: {agent.id}\")"
   ]
  },
  {
   "cell_type": "markdown",
   "metadata": {},
   "source": [
    "### Create a thread\n",
    "\n",
    "Threads in the Agent Service are designed to be session-based.\n",
    "Each thread is a conversation between the user and the assistant."
   ]
  },
  {
   "cell_type": "code",
   "execution_count": null,
   "metadata": {},
   "outputs": [],
   "source": [
    "thread = project_client.agents.create_thread()\n",
    "print_in_color(\"Created thread, thread ID:\", thread.id)"
   ]
  },
  {
   "cell_type": "markdown",
   "metadata": {},
   "source": [
    "### Have a conversation with the Agent"
   ]
  },
  {
   "cell_type": "code",
   "execution_count": null,
   "metadata": {},
   "outputs": [],
   "source": [
    "process_message(\"What were the sales of tents by region as a table.\")"
   ]
  },
  {
   "cell_type": "code",
   "execution_count": null,
   "metadata": {},
   "outputs": [],
   "source": [
    "process_message(\"What Contoso tents are good for beginners. Show as a table\")"
   ]
  },
  {
   "cell_type": "code",
   "execution_count": null,
   "metadata": {},
   "outputs": [],
   "source": [
    "process_message(\"what tents compete with Contoso beginners tents in 2024 and at what price? Return name, price, feautures as a list, and brief description as a markdown table. \")"
   ]
  },
  {
   "cell_type": "code",
   "execution_count": null,
   "metadata": {},
   "outputs": [],
   "source": [
    "process_message(\"What Contoso beginner tents compete with beginner tents in the market by similar price point? Show as a table and include the Contoso tent type, price, and brief description along with competitor information.\")"
   ]
  },
  {
   "cell_type": "markdown",
   "metadata": {},
   "source": [
    "## Cleaning up"
   ]
  },
  {
   "cell_type": "code",
   "execution_count": null,
   "metadata": {},
   "outputs": [],
   "source": [
    "project_client.agents.delete_agent(agent.id)\n",
    "project_client.agents.delete_vector_store(vector_store.id)\n",
    "project_client.agents.delete_file(file_id=file.id)\n",
    "\n",
    "sales_data.close()"
   ]
  }
 ],
 "metadata": {
  "kernelspec": {
   "display_name": "Python 3",
   "language": "python",
   "name": "python3"
  },
  "language_info": {
   "codemirror_mode": {
    "name": "ipython",
    "version": 3
   },
   "file_extension": ".py",
   "mimetype": "text/x-python",
   "name": "python",
   "nbconvert_exporter": "python",
   "pygments_lexer": "ipython3",
   "version": "3.11.10"
  }
 },
 "nbformat": 4,
 "nbformat_minor": 4
}
