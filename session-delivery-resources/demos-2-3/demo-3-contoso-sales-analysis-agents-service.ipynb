{
 "cells": [
  {
   "cell_type": "markdown",
   "metadata": {},
   "source": [
    "# Contoso Sales Analysis Assistant"
   ]
  },
  {
   "cell_type": "markdown",
   "metadata": {},
   "source": [
    "The following notebook includes a version of [demo 3](./demo-3-contoso-sales-analysis.ipynb) which uses [Azure AI Agent Service](https://techcommunity.microsoft.com/blog/azure-ai-services-blog/introducing-azure-ai-agent-service/4298357) to build the Contoso Sales Assistant.\n",
    "\n",
    "## Azure AI Agent Service\n",
    "Azure AI Agent service builds upon Azure OpenAI Assistants API to provide an **enterprise-grade** solution for building scalable agents safely and securely. It integrates with an **extensive ecosystem of tools** to enable agents to ground their knowledge in real-time data (e.g. Azure AI Search, Sharepoint and Bing Search) and to **act on behalf of users** (e.g. Logic Apps and Azure Functions).\n",
    "Azure AI Agent Service also allows a flexible model choice, going beyond the OpenAI collection. \n",
    "\n",
    "The service is accessible through the [Azure AI Foundry SDK](https://techcommunity.microsoft.com/blog/aiplatformblog/ignite-2024-announcing-the-azure-ai-foundry-sdk/4295862), which provides a simplified coding experience to build AI applications. "
   ]
  },
  {
   "cell_type": "markdown",
   "metadata": {},
   "source": [
    "> [!IMPORTANT]\n",
    "> The Azure AI Agent Service is currently in **private preview**. This early stage of development means the product is actively evovling, with significant updates and improvements expected. Users should anticipate changes as we work towards refining features, enhancing functionality, and expanding capabilities. We welcome feedback and contributions during this phase to help shape the future of the product.\n",
    "[Join the waitlist](https://nam.dcv.ms/nzy5CEG6Br) to get access to the private preview."
   ]
  },
  {
   "cell_type": "markdown",
   "metadata": {},
   "source": [
    "## Installation\n",
    "\n",
    "Refer to the README.md file in this folder for installation instructions."
   ]
  },
  {
   "cell_type": "markdown",
   "metadata": {},
   "source": [
    "### Load parameters"
   ]
  },
  {
   "cell_type": "code",
   "execution_count": null,
   "metadata": {},
   "outputs": [],
   "source": [
    "import os\n",
    "import json\n",
    "import sqlite3\n",
    "from datetime import datetime\n",
    "from typing import Any, Callable, Iterable, Set\n",
    "\n",
    "from PIL import Image\n",
    "from IPython.display import display\n",
    "import pandas as pd\n",
    "from dotenv import load_dotenv\n",
    "from azure.identity import DefaultAzureCredential\n",
    "from azure.ai.projects import AIProjectClient\n",
    "from azure.ai.projects.models import (\n",
    "    CodeInterpreterTool,\n",
    "    FunctionTool,\n",
    "    MessageImageFileContent,\n",
    "    MessageTextContent,\n",
    "    RequiredFunctionToolCall,\n",
    "    SubmitToolOutputsAction,\n",
    "    ThreadMessage,\n",
    "    ThreadRun,\n",
    "    ToolOutput,\n",
    "    ToolSet,\n",
    ")\n",
    "\n",
    "load_dotenv(\".env\")\n",
    "\n",
    "API_DEPLOYMEMT_NAME = os.getenv(\"OPENAI_GPT_DEPLOYMENT\")\n",
    "\n",
    "thread = None\n",
    "agent = None"
   ]
  },
  {
   "cell_type": "markdown",
   "metadata": {},
   "source": [
    "### Import Libraries and open the contoso-sales SQLite database"
   ]
  },
  {
   "cell_type": "code",
   "execution_count": null,
   "metadata": {},
   "outputs": [],
   "source": [
    "con = sqlite3.connect(\"./database/contoso-sales.db\")"
   ]
  },
  {
   "cell_type": "markdown",
   "metadata": {},
   "source": [
    "### Get revenue by region\n",
    "\n",
    "Called by the Assistant"
   ]
  },
  {
   "cell_type": "code",
   "execution_count": null,
   "metadata": {},
   "outputs": [],
   "source": [
    "def fetch_sales_by_region() -> str:\n",
    "    \"\"\"\n",
    "    Fetch worldwide sales by region\n",
    "    :rtype: str\n",
    "    \"\"\"\n",
    "    query = \"\"\"\n",
    "        SELECT  \n",
    "            region AS Region,  \n",
    "            SUM(number_of_orders) AS Orders,  \n",
    "            SUM(revenue) AS Revenue,  \n",
    "            SUM(discount) AS Discount,  \n",
    "            SUM(shipping_cost) AS ShippingCost,\n",
    "            SUM(revenue) - SUM(discount) - SUM(shipping_cost) AS NetRevenue  \n",
    "        FROM \n",
    "            sales_data\n",
    "        GROUP BY Region ORDER BY NetRevenue DESC\n",
    "    \"\"\"\n",
    "    result = pd.read_sql_query(query, con)\n",
    "    return json.dumps({\"revenues_by_region\": result.to_dict(orient=\"records\")})"
   ]
  },
  {
   "cell_type": "markdown",
   "metadata": {},
   "source": [
    "### Get sales by month\n",
    "\n",
    "Called by the Assistant. Expects month and year as input."
   ]
  },
  {
   "cell_type": "code",
   "execution_count": null,
   "metadata": {},
   "outputs": [],
   "source": [
    "def fetch_sales_by_month(month: int, year: int) -> str:\n",
    "    \"\"\"\n",
    "    Fetch sales by month\n",
    "    :param month: int\n",
    "    :param year: int\n",
    "    :rtype: str\n",
    "    \"\"\"\n",
    "\n",
    "    query = \"\"\"\n",
    "        SELECT   \n",
    "            year || '-' || CASE \n",
    "                WHEN month < 10 THEN '0' || month \n",
    "                ELSE month \n",
    "                END AS Month,\n",
    "        SUM(revenue) AS Revenue,\n",
    "        SUM(revenue) - SUM(discount) - SUM(shipping_cost) AS NetRevenue\n",
    "        FROM sales_data \n",
    "        WHERE Month = ? and Year = ?\n",
    "        GROUP BY Month, Year \n",
    "        ORDER BY Year, Month\n",
    "    \"\"\"\n",
    "    result = pd.read_sql_query(query, con, params=[month, year])\n",
    "    return json.dumps({\"sales_by_month\": result.to_dict(orient=\"records\")})"
   ]
  },
  {
   "cell_type": "markdown",
   "metadata": {},
   "source": [
    "### Create an AI Project client"
   ]
  },
  {
   "cell_type": "code",
   "execution_count": null,
   "metadata": {},
   "outputs": [],
   "source": [
    "project_client = AIProjectClient.from_connection_string(\n",
    "    credential=DefaultAzureCredential(), conn_str=os.environ[\"PROJECT_CONNECTION_STRING\"]\n",
    ")"
   ]
  },
  {
   "cell_type": "markdown",
   "metadata": {},
   "source": [
    "### Define the Agent tools\n",
    "\n",
    "The are three tools defined:\n",
    "\n",
    "1. code_interpreter\n",
    "1. `fetch_sales_by_region`: This function returns the sales by region from the SQLite database.\n",
    "1. `fetch_sales_by_month`: This function returns the sales by month from the SQLite database.\n"
   ]
  },
  {
   "cell_type": "code",
   "execution_count": null,
   "metadata": {},
   "outputs": [],
   "source": [
    "user_functions: Set[Callable[..., Any]] = {\n",
    "    fetch_sales_by_region,\n",
    "    fetch_sales_by_month\n",
    "}"
   ]
  },
  {
   "cell_type": "code",
   "execution_count": null,
   "metadata": {},
   "outputs": [],
   "source": [
    "functions = FunctionTool(functions=user_functions)\n",
    "code_interpreter = CodeInterpreterTool()\n",
    "\n",
    "toolset = ToolSet()\n",
    "toolset.add(functions)\n",
    "toolset.add(code_interpreter)"
   ]
  },
  {
   "cell_type": "markdown",
   "metadata": {},
   "source": [
    "### Set the Assistant instruction context\n",
    "\n",
    "Sets the context for the conversation. The instructions are equivalent to setting the system message for an OpenAI chat completion."
   ]
  },
  {
   "cell_type": "code",
   "execution_count": null,
   "metadata": {},
   "outputs": [],
   "source": [
    "instructions = (\n",
    "    \"You are an advanced sales analysis assistant for Contoso. Your role is to assist users with their sales data inquiries while maintaining a polite, professional, helpful, and friendly demeanor.\",\n",
    "\n",
    "    \"Available Data:\",\n",
    "    \"- Regions: Africa, Asia, Europe, America\",\n",
    "    \"- Product Categories: Climbing gear, Camping equipment, Apparel, etc.\",\n",
    "    \"- Product Types: Jackets, Hammocks, Wetsuits, Crampons, Shoes, etc.\",\n",
    "    \"- Time Periods: Monthly data (e.g., 2023-01, 2023-08, 2024-02)\",\n",
    "    \"- Metrics:\",\n",
    "    \"  - Revenue: Numeric values representing sales revenue.\",\n",
    "    \"  - Discounts: Numeric values for discounts applied.\",\n",
    "    \"  - Shipping Costs: Numeric values for shipping expenses.\",\n",
    "    \"  - Net Revenue: Calculated as revenue minus discounts and shipping costs.\",\n",
    "\n",
    "    \"Responsibilities:\",\n",
    "    \"1. Data Analysis: Provide insights based on available sales data.\",\n",
    "    \"2. Visualizations: Generate charts or graphs to illustrate trends.\",\n",
    "    \"3. Scope Awareness:\",\n",
    "    \"   - For non-sales-related questions, respond:\",\n",
    "    \"     'I'm unable to assist with that. Please contact IT for more assistance.'\",\n",
    "    \"   - For help requests, provide example questions you can answer.\",\n",
    "    \"4. Handling Difficult Interactions:\",\n",
    "    \"   - Remain calm and professional with upset or insulting users.\",\n",
    "    \"   - Respond: 'I'm here to help with your sales data inquiries. If you need further assistance, please contact IT.'\",\n",
    "\n",
    "    \"Tone & Conduct:\",\n",
    "    \"- Maintain a professional and courteous tone.\",\n",
    "    \"- Avoid sharing sensitive or confidential information.\",\n",
    "\n",
    "    f\"The current date and time is: {datetime.now().strftime('%x %X')}.\"\n",
    ")"
   ]
  },
  {
   "cell_type": "markdown",
   "metadata": {},
   "source": [
    "### Process Function calling\n",
    "\n",
    "Loops through the conversation and calls the appropriate function based on the user input."
   ]
  },
  {
   "cell_type": "code",
   "execution_count": null,
   "metadata": {},
   "outputs": [],
   "source": [
    "def call_functions(project_client: AIProjectClient, thread_id: str, run: ThreadRun) -> None:\n",
    "    tool_calls = run.required_action.submit_tool_outputs.tool_calls\n",
    "    if not tool_calls:\n",
    "        print(\"No tool calls provided - cancelling run\")\n",
    "        project_client.agents.cancel_run(thread_id=thread_id, run_id=run.id)\n",
    "        return\n",
    "\n",
    "    tool_outputs = []\n",
    "    for tool_call in tool_calls:\n",
    "        if isinstance(tool_call, RequiredFunctionToolCall):\n",
    "            try:\n",
    "                print(f\"Executing tool call: {tool_call}\")\n",
    "                output = functions.execute(tool_call)\n",
    "                tool_outputs.append(\n",
    "                    ToolOutput(\n",
    "                        tool_call_id=tool_call.id,\n",
    "                        output=output,\n",
    "                    )\n",
    "                )\n",
    "            except Exception as e:\n",
    "                print(f\"Error executing tool_call {tool_call.id}: {e}\")\n",
    "\n",
    "    print(f\"Tool outputs: {tool_outputs}\")\n",
    "    if tool_outputs:\n",
    "        project_client.agents.submit_tool_outputs_to_run(\n",
    "            thread_id=thread.id, run_id=run.id, tool_outputs=tool_outputs\n",
    "        )\n",
    "    print(f\"Run finished with status: {run.status}\")"
   ]
  },
  {
   "cell_type": "markdown",
   "metadata": {},
   "source": [
    "### Format and display the Agent Messages for text and images\n",
    "\n",
    "Utility functions to format and display the Agent messages."
   ]
  },
  {
   "cell_type": "code",
   "execution_count": null,
   "metadata": {},
   "outputs": [],
   "source": [
    "def format_messages(messages: Iterable[ThreadMessage]) -> None:\n",
    "    last_msg = messages.get_last_message_by_sender(\"assistant\")\n",
    "\n",
    "    if last_msg:\n",
    "        for content in last_msg.content:\n",
    "            if isinstance(content, MessageTextContent):\n",
    "                print(f\"Last Message: {content.text.value}\")\n",
    "\n",
    "            if isinstance(content, MessageImageFileContent):\n",
    "                    print(f\"Image File ID: {content.image_file.file_id}\")\n",
    "                    file_name = f\"{content.image_file.file_id}_image_file.png\"\n",
    "                    project_client.agents.save_file(file_id=content.image_file.file_id, file_name=file_name)\n",
    "                    image = Image.open(file_name)\n",
    "                    image = image.resize((image.width // 2, image.height // 2), Image.LANCZOS)\n",
    "                    project_client.agents.delete_file(content.image_file.file_id)\n",
    "                    display(image)"
   ]
  },
  {
   "cell_type": "markdown",
   "metadata": {},
   "source": [
    "### Process the user messages\n",
    "\n",
    "Loops through the conversation and calls the appropriate function based on the user input."
   ]
  },
  {
   "cell_type": "code",
   "execution_count": null,
   "metadata": {},
   "outputs": [],
   "source": [
    "def process_message(content: str) -> None:\n",
    "    # Create message to thread\n",
    "    message = project_client.agents.create_message(\n",
    "        thread_id=thread.id,\n",
    "        role=\"user\",\n",
    "        content=content,\n",
    "    )\n",
    "    print(f\"Created message, ID: {message.id}\")\n",
    "\n",
    "    run = project_client.agents.create_run(thread_id=thread.id, assistant_id=agent.id)\n",
    "    print(f\"Created run, ID: {run.id}\")\n",
    "\n",
    "    while run.status in [\"queued\", \"in_progress\", \"requires_action\"]:\n",
    "        run = project_client.agents.get_run(thread_id=thread.id, run_id=run.id)\n",
    "\n",
    "        if run.status == \"requires_action\" and isinstance(run.required_action, SubmitToolOutputsAction):\n",
    "           call_functions(project_client, thread.id, run) \n",
    "\n",
    "    # Fetch and log all messages\n",
    "    messages = project_client.agents.get_messages(thread_id=thread.id)\n",
    "    format_messages(messages)\n"
   ]
  },
  {
   "cell_type": "markdown",
   "metadata": {},
   "source": [
    "### Create an Agent Object\n",
    "\n",
    "The Agent is responsible for managing the conversation with the user."
   ]
  },
  {
   "cell_type": "code",
   "execution_count": null,
   "metadata": {},
   "outputs": [],
   "source": [
    "agent = project_client.agents.create_agent(\n",
    "    model=API_DEPLOYMEMT_NAME, name=\"my-assistant\", instructions=\"\\n\".join(instructions), toolset=toolset\n",
    ")\n",
    "print(f\"Created agent, ID: {agent.id}\")"
   ]
  },
  {
   "cell_type": "markdown",
   "metadata": {},
   "source": [
    "### Create a thread\n",
    "\n",
    "Threads in the Agent Service are designed to be session-based.\n",
    "Each thread is a conversation between the user and the assistant."
   ]
  },
  {
   "cell_type": "code",
   "execution_count": null,
   "metadata": {},
   "outputs": [],
   "source": [
    "thread = project_client.agents.create_thread()\n",
    "print(f\"Created thread, thread ID {thread.id}\")"
   ]
  },
  {
   "cell_type": "markdown",
   "metadata": {},
   "source": [
    "### Have a conversation with the Agent"
   ]
  },
  {
   "cell_type": "code",
   "execution_count": null,
   "metadata": {},
   "outputs": [],
   "source": [
    "process_message(\"what was the total sales data for region? Display as a table.\")"
   ]
  },
  {
   "cell_type": "code",
   "execution_count": null,
   "metadata": {},
   "outputs": [],
   "source": [
    "process_message(\"Pie chart of sales by region. Use different colors for each region.\")"
   ]
  },
  {
   "cell_type": "code",
   "execution_count": null,
   "metadata": {},
   "outputs": [],
   "source": [
    "process_message(\"Calculate the worldwide sales revenue. Display as a table.\")"
   ]
  },
  {
   "cell_type": "code",
   "execution_count": null,
   "metadata": {},
   "outputs": [],
   "source": [
    "process_message(\"what were the sales for March in 2023? Display as a table.\")"
   ]
  },
  {
   "cell_type": "markdown",
   "metadata": {},
   "source": [
    "## Cleaning up"
   ]
  },
  {
   "cell_type": "code",
   "execution_count": null,
   "metadata": {},
   "outputs": [],
   "source": [
    "project_client.agents.delete_agent(agent.id)\n",
    "con.close()\n",
    "print(\"Deleted agent\")"
   ]
  }
 ],
 "metadata": {
  "kernelspec": {
   "display_name": "Python 3",
   "language": "python",
   "name": "python3"
  },
  "language_info": {
   "codemirror_mode": {
    "name": "ipython",
    "version": 3
   },
   "file_extension": ".py",
   "mimetype": "text/x-python",
   "name": "python",
   "nbconvert_exporter": "python",
   "pygments_lexer": "ipython3",
   "version": "3.11.10"
  }
 },
 "nbformat": 4,
 "nbformat_minor": 4
}
