{
 "cells": [
  {
   "cell_type": "markdown",
   "metadata": {},
   "source": [
    "# Contoso Sales Analysis Assistant"
   ]
  },
  {
   "cell_type": "markdown",
   "metadata": {},
   "source": [
    "The following notebook includes a version of [demo 3](./demo-3-contoso-sales-analysis.ipynb) which uses [Azure AI Agent Service](https://techcommunity.microsoft.com/blog/azure-ai-services-blog/introducing-azure-ai-agent-service/4298357) to build the Contoso Sales Assistant.\n",
    "\n",
    "## Azure AI Agent Service\n",
    "Azure AI Agent service builds upon Azure OpenAI Assistants API to provide an enterprise-grade** solution for building scalable agents safely and securely. It integrates with an **extensive ecosystem of tools** to enable agents to ground their knowledge in real-time data (e.g. Azure AI Search, Sharepoint and Bing Search) and to **act on behalf of users** (e.g. Logic Apps and Azure Functions).\n",
    "Azure AI Agent Service also allows a flexible model choice, going beyond the OpenAI collection. \n",
    "\n",
    "The service is accessible through the [Azure AI Foundry SDK](https://techcommunity.microsoft.com/blog/aiplatformblog/ignite-2024-announcing-the-azure-ai-foundry-sdk/4295862), which provides a simplified coding experience to build AI applications. "
   ]
  },
  {
   "cell_type": "markdown",
   "metadata": {},
   "source": [
    "> The Azure AI Agent Service is currently in **private preview**. This early stage of development means the product is actively evovling, with significant updates and improvements expected. Users should anticipate changes as we work towards refining features, enhancing functionality, and expanding capabilities. We welcome feedback and contributions during this phase to help shape the future of the product.\n",
    "[Join the waitlist](https://nam.dcv.ms/nzy5CEG6Br) to get access to the private preview."
   ]
  },
  {
   "cell_type": "markdown",
   "metadata": {},
   "source": [
    "## Installation\n",
    "\n",
    "Refer to the README.md file in this folder for installation instructions."
   ]
  },
  {
   "cell_type": "markdown",
   "metadata": {},
   "source": [
    "### Load parameters"
   ]
  },
  {
   "cell_type": "code",
   "execution_count": 17,
   "metadata": {},
   "outputs": [],
   "source": [
    "import os\n",
    "from datetime import datetime\n",
    "from typing import Any, Callable, Iterable, Set\n",
    "\n",
    "from PIL import Image\n",
    "from IPython.display import display, HTML\n",
    "from dotenv import load_dotenv\n",
    "from azure.identity import DefaultAzureCredential\n",
    "from azure.ai.projects import AIProjectClient\n",
    "from azure.ai.projects.models import (\n",
    "    CodeInterpreterTool,\n",
    "    FunctionTool,\n",
    "    MessageImageFileContent,\n",
    "    MessageTextContent,\n",
    "    RequiredFunctionToolCall,\n",
    "    SubmitToolOutputsAction,\n",
    "    ThreadMessage,\n",
    "    ThreadRun,\n",
    "    ToolOutput,\n",
    "    ToolSet,\n",
    ")\n",
    "\n",
    "from sales_data import SalesData\n",
    "\n",
    "load_dotenv(\".env\")\n",
    "\n",
    "API_DEPLOYMENT_NAME = os.getenv(\"MODEL_DEPLOYMENT_NAME\")\n",
    "\n",
    "thread = None\n",
    "agent = None"
   ]
  },
  {
   "cell_type": "markdown",
   "metadata": {},
   "source": [
    "### Initialize the SQLite Contoso sales database"
   ]
  },
  {
   "cell_type": "code",
   "execution_count": null,
   "metadata": {},
   "outputs": [],
   "source": [
    "sales_data = SalesData()\n",
    "sales_data.connect()\n",
    "db_info = sales_data.get_database_info()\n",
    "print(db_info)"
   ]
  },
  {
   "cell_type": "markdown",
   "metadata": {},
   "source": [
    "### Create an AI Project client"
   ]
  },
  {
   "cell_type": "code",
   "execution_count": 19,
   "metadata": {},
   "outputs": [],
   "source": [
    "project_client = AIProjectClient.from_connection_string(\n",
    "    credential=DefaultAzureCredential(), conn_str=os.environ[\"PROJECT_CONNECTION_STRING\"]\n",
    ")"
   ]
  },
  {
   "cell_type": "markdown",
   "metadata": {},
   "source": [
    "### Define the Agent tools\n",
    "\n",
    "The are three tools defined:\n",
    "\n",
    "1. code_interpreter\n",
    "1. `fetch_sales_data_using_sqlite_query`: This function returns the sales from the SQLite database.\n"
   ]
  },
  {
   "cell_type": "code",
   "execution_count": 20,
   "metadata": {},
   "outputs": [],
   "source": [
    "user_functions: Set[Callable[..., Any]] = {\n",
    "    sales_data.fetch_sales_data_using_sqlite_query,\n",
    "}\n",
    "\n",
    "functions = FunctionTool(functions=user_functions)\n",
    "code_interpreter = CodeInterpreterTool()\n",
    "\n",
    "toolset = ToolSet()\n",
    "toolset.add(functions)\n",
    "toolset.add(code_interpreter)"
   ]
  },
  {
   "cell_type": "markdown",
   "metadata": {},
   "source": [
    "### Set the Assistant instruction context\n",
    "\n",
    "Sets the context for the conversation. The instructions are equivalent to setting the system message for an OpenAI chat completion."
   ]
  },
  {
   "cell_type": "code",
   "execution_count": 21,
   "metadata": {},
   "outputs": [],
   "source": [
    "instructions = (\n",
    "    \"You are an advanced sales analysis assistant for Contoso, specializing in assisting users with sales data inquiries. Maintain a polite, professional, helpful, and friendly demeanor at all times.\",\n",
    "\n",
    "    \"Use the `fetch_sales_data_using_sqlite_query` function to execute sales data queries, defaulting to aggregated data unless a detailed breakdown is requested. The function returns JSON-formatted results.\",\n",
    "\n",
    "    f\"Refer to the Contoso sales database schema: {db_info}.\",\n",
    "\n",
    "    \"When asked for 'help,' provide example queries such as:\",\n",
    "    \"- 'What was last quarter's revenue?'\",\n",
    "    \"- 'Top-selling products in Europe?'\",\n",
    "    \"- 'Total shipping costs by region?'\",\n",
    "\n",
    "    \"Responsibilities:\",\n",
    "    \"1. Data Analysis: Provide clear insights based on available sales data.\",\n",
    "    \"2. Visualizations: Generate charts or graphs to illustrate trends.\",\n",
    "    \"3. Scope Awareness:\",\n",
    "    \"   - For non-sales-related or out-of-scope questions, reply with:\",\n",
    "    \"     'I'm unable to assist with that. Please contact IT for further assistance.'\",\n",
    "    \"   - For help requests, suggest actionable and relevant questions.\",\n",
    "    \"4. Handling Difficult Interactions:\",\n",
    "    \"   - Remain calm and professional when dealing with upset or hostile users.\",\n",
    "    \"   - Respond with: 'I'm here to help with your sales data inquiries. If you need further assistance, please contact IT.'\",\n",
    "\n",
    "    \"Conduct Guidelines:\",\n",
    "    \"- Always maintain a professional and courteous tone.\",\n",
    "    \"- Only use data from the Contoso sales database.\",\n",
    "    \"- Avoid sharing sensitive or confidential information.\",\n",
    "    \"- For questions outside your expertise or unclear queries, respond with:\",\n",
    "    \"  'I'm unable to assist with that. Please ask more specific questions about Contoso sales or contact IT for help.'\",\n",
    "\n",
    "    f\"The current date and time is: {datetime.now().strftime('%x %X')}.\"\n",
    ")"
   ]
  },
  {
   "cell_type": "code",
   "execution_count": 22,
   "metadata": {},
   "outputs": [],
   "source": [
    "def print_in_color(key, value):\n",
    "    display(HTML(f\"<span style='color: green;font-weight: bold;font-size: medium;'>{key}</span> \"\n",
    "            f\"<span style='color: blue;font-weight: bold;font-size: medium;'>{value}</span>\"))"
   ]
  },
  {
   "cell_type": "markdown",
   "metadata": {},
   "source": [
    "### Process Function calling\n",
    "\n",
    "Loops through the conversation and calls the appropriate function based on the user input."
   ]
  },
  {
   "cell_type": "code",
   "execution_count": 23,
   "metadata": {},
   "outputs": [],
   "source": [
    "def call_functions(project_client: AIProjectClient, thread_id: str, run: ThreadRun) -> None:\n",
    "    tool_calls = run.required_action.submit_tool_outputs.tool_calls\n",
    "    if not tool_calls:\n",
    "        print(\"No tool calls provided - cancelling run\")\n",
    "        project_client.agents.cancel_run(thread_id=thread_id, run_id=run.id)\n",
    "        return\n",
    "\n",
    "    tool_outputs = []\n",
    "    for tool_call in tool_calls:\n",
    "        if isinstance(tool_call, RequiredFunctionToolCall):\n",
    "            try:\n",
    "                # Printing the extracted details\n",
    "                print_in_color(\"Executing function tool call\", \"\")\n",
    "                print_in_color(\"Function Name:\", tool_call.get('function', {}).get('name'))\n",
    "                print_in_color(\"Arguments:\", tool_call.get('function', {}).get('arguments'))\n",
    "\n",
    "                output = functions.execute(tool_call)\n",
    "                tool_outputs.append(\n",
    "                    ToolOutput(\n",
    "                        tool_call_id=tool_call.id,\n",
    "                        output=output,\n",
    "                    )\n",
    "                )\n",
    "            except Exception as e:\n",
    "                print(f\"Error executing tool_call {tool_call.id}: {e}\")\n",
    "\n",
    "    if tool_outputs:\n",
    "        print_in_color(\"Tool outputs:\", tool_outputs[0].get('output'))\n",
    "        project_client.agents.submit_tool_outputs_to_run(\n",
    "            thread_id=thread.id, run_id=run.id, tool_outputs=tool_outputs\n",
    "        )"
   ]
  },
  {
   "cell_type": "markdown",
   "metadata": {},
   "source": [
    "### Format and display the Agent Messages for text and images\n",
    "\n",
    "Utility functions to format and display the Agent messages."
   ]
  },
  {
   "cell_type": "code",
   "execution_count": 24,
   "metadata": {},
   "outputs": [],
   "source": [
    "def format_messages(messages: Iterable[ThreadMessage]) -> None:\n",
    "    last_msg = messages.get_last_message_by_sender(\"assistant\")\n",
    "\n",
    "    if last_msg:\n",
    "        for content in last_msg.content:\n",
    "            if isinstance(content, MessageTextContent):\n",
    "                print(f\"Last Message: {content.text.value}\")\n",
    "\n",
    "            if isinstance(content, MessageImageFileContent):\n",
    "                print_in_color(\"Image File ID:\", content.image_file.file_id)\n",
    "                file_name = f\"{content.image_file.file_id}_image_file.png\"\n",
    "                project_client.agents.save_file(\n",
    "                    file_id=content.image_file.file_id, file_name=file_name)\n",
    "                image = Image.open(file_name)\n",
    "                image = image.resize(\n",
    "                    (image.width // 2, image.height // 2), Image.LANCZOS)\n",
    "                project_client.agents.delete_file(content.image_file.file_id)\n",
    "                display(image)"
   ]
  },
  {
   "cell_type": "markdown",
   "metadata": {},
   "source": [
    "### Process the user messages\n",
    "\n",
    "Loops through the conversation and calls the appropriate function based on the user input."
   ]
  },
  {
   "cell_type": "code",
   "execution_count": 25,
   "metadata": {},
   "outputs": [],
   "source": [
    "def process_message(content: str) -> None:\n",
    "    # Create message to thread\n",
    "    message = project_client.agents.create_message(\n",
    "        thread_id=thread.id,\n",
    "        role=\"user\",\n",
    "        content=content\n",
    "    )\n",
    "    print_in_color(\"Created message ID:\", message.id)\n",
    "    run = project_client.agents.create_run(thread_id=thread.id, assistant_id=agent.id)\n",
    "    print_in_color(\"Created run, ID:\", run.id)\n",
    "\n",
    "    while run.status in [\"queued\", \"in_progress\", \"requires_action\"]:\n",
    "        run = project_client.agents.get_run(thread_id=thread.id, run_id=run.id)\n",
    "\n",
    "        if run.status == \"requires_action\" and isinstance(run.required_action, SubmitToolOutputsAction):\n",
    "            call_functions(project_client, thread.id, run)\n",
    "\n",
    "    # Fetch and log all messages\n",
    "    messages = project_client.agents.list_messages(thread_id=thread.id)\n",
    "    format_messages(messages)"
   ]
  },
  {
   "cell_type": "markdown",
   "metadata": {},
   "source": [
    "### Create an Agent Object\n",
    "\n",
    "The Agent is responsible for managing the conversation with the user."
   ]
  },
  {
   "cell_type": "code",
   "execution_count": null,
   "metadata": {},
   "outputs": [],
   "source": [
    "agent = project_client.agents.create_agent(\n",
    "    model=API_DEPLOYMENT_NAME,\n",
    "    name=\"my-assistant\",\n",
    "    instructions=\"\\n\".join(instructions),\n",
    "    toolset=toolset,\n",
    "    temperature=0.2,\n",
    ")\n",
    "print(f\"Created agent, ID: {agent.id}\")"
   ]
  },
  {
   "cell_type": "markdown",
   "metadata": {},
   "source": [
    "### Create a thread\n",
    "\n",
    "Threads in the Agent Service are designed to be session-based.\n",
    "Each thread is a conversation between the user and the assistant."
   ]
  },
  {
   "cell_type": "code",
   "execution_count": null,
   "metadata": {},
   "outputs": [],
   "source": [
    "thread = project_client.agents.create_thread()\n",
    "print_in_color(\"Created thread, thread ID:\", thread.id)"
   ]
  },
  {
   "cell_type": "markdown",
   "metadata": {},
   "source": [
    "### Have a conversation with the Agent"
   ]
  },
  {
   "cell_type": "code",
   "execution_count": null,
   "metadata": {},
   "outputs": [],
   "source": [
    "process_message(\n",
    "    \"what was the total sales revenue by region? Display as a table.\")"
   ]
  },
  {
   "cell_type": "code",
   "execution_count": null,
   "metadata": {},
   "outputs": [],
   "source": [
    "process_message(\"Pie chart of sales by region. Use different colors for each region.\")"
   ]
  },
  {
   "cell_type": "code",
   "execution_count": null,
   "metadata": {},
   "outputs": [],
   "source": [
    "process_message(\"Calculate the worldwide sales revenue for 2022, 2023 and 2024. Display as a table and include the year along with the revenue.\")"
   ]
  },
  {
   "cell_type": "code",
   "execution_count": null,
   "metadata": {},
   "outputs": [],
   "source": [
    "prompt = (\"What was the revenue and units sold for March in 2024 by region? \"\n",
    "          \"Display as a table and include the month and year listed alongside each region. \"\n",
    "          \"Respond in Hindi.\")\n",
    "\n",
    "process_message(prompt)"
   ]
  },
  {
   "cell_type": "markdown",
   "metadata": {},
   "source": [
    "## Cleaning up"
   ]
  },
  {
   "cell_type": "code",
   "execution_count": null,
   "metadata": {},
   "outputs": [],
   "source": [
    "project_client.agents.delete_agent(agent.id)\n",
    "# con.close()\n",
    "sales_data.close()\n",
    "print(\"Deleted agent\")"
   ]
  },
  {
   "cell_type": "code",
   "execution_count": null,
   "metadata": {},
   "outputs": [],
   "source": []
  }
 ],
 "metadata": {
  "kernelspec": {
   "display_name": "Python 3",
   "language": "python",
   "name": "python3"
  },
  "language_info": {
   "codemirror_mode": {
    "name": "ipython",
    "version": 3
   },
   "file_extension": ".py",
   "mimetype": "text/x-python",
   "name": "python",
   "nbconvert_exporter": "python",
   "pygments_lexer": "ipython3",
   "version": "3.11.10"
  }
 },
 "nbformat": 4,
 "nbformat_minor": 4
}
