{
 "cells": [
  {
   "cell_type": "markdown",
   "metadata": {},
   "source": [
    "# Contoso Sales Analysis Assistant"
   ]
  },
  {
   "cell_type": "markdown",
   "metadata": {},
   "source": [
    "## Demo hints\n",
    "\n",
    "1. Run all cells up to the [Set the Assistant instruction context](#set-the-assistant-instruction-context)\n",
    "1. Discuss the Assistant Function Calling [Define the Assistant tools](#define-the-assistant-tools)\n",
    "1. Discuss in a bit of detail the Assistant Function Calling [Process the function calling](#process-function-calling)\n",
    "1. Discuss the Get revenue by region function - it's performing a SQL query to get the revenue by region. [Get revenue by region](#get-revenue-by-region)\n",
    "1. The start doing the interactive demo from creating the assistant to calling the functions. [The Assistant Object](#create-an-assistant-object)"
   ]
  },
  {
   "cell_type": "markdown",
   "metadata": {},
   "source": [
    "## Why use the OpenAI Assistants API\n",
    "\n",
    "The OpenAI Assistants API allows you to build conversational agents that can understand and respond to user inputs. You can use the API to automate tasks, provide information, or guide users through a process.\n",
    "\n",
    "The Assistants API is not the only way to build conversational agents, but it offers several advantages:\n",
    "\n",
    "1. Simplicity: The API abstracts away the complexity of building a conversational agent, allowing you to focus on the content and logic of the conversation.\n",
    "2. Scalability: The API is designed to handle a large number of concurrent users, making it suitable for production use.\n",
    "3. Customization: The API allows you to customize the behavior of the assistant by providing training data and defining conversational flows.\n",
    "4. Integration: The API can be integrated with other services and systems, allowing you to build assistants that interact with external data sources."
   ]
  },
  {
   "cell_type": "markdown",
   "metadata": {},
   "source": [
    "## Core concepts\n",
    "\n",
    "The OpenAI Assistants API is based on a few core concepts that you need to understand in order to build conversational agents:\n",
    "\n",
    "### Conversational agents\n",
    "\n",
    "A conversational agent is a computer program that can interact with users in a natural language. The agent can understand user inputs, generate responses, and maintain a context of the conversation.\n",
    "\n",
    "### Conversational flows\n",
    "\n",
    "A conversational flow is a sequence of interactions between the user and the assistant. The flow can include questions, prompts, and responses that guide the user through a process or provide information.\n",
    "\n",
    "### The Assistant object\n",
    "\n",
    "The Assistant object is the main interface for interacting with the Assistants API. You can create an Assistant object by providing your API key and the ID of the assistant you want to use.\n",
    "\n",
    "### The Thread object\n",
    "\n",
    "The Thread object represents a conversation thread between the user and the assistant.\n",
    "\n",
    "### Function calling\n",
    "\n",
    "The Assistants API allows you to define custom functions that can be called from within the conversation. These functions can perform tasks, retrieve data, or interact with external services.\n",
    "\n",
    "### Code Generation\n",
    "\n",
    "The Assistants API can generate Python code to be executed in a sandboxed environment. This code can be used to define custom functions, manipulate data, or perform calculations. The generated code is executed in a secure environment to prevent malicious behavior."
   ]
  },
  {
   "cell_type": "markdown",
   "metadata": {},
   "source": [
    "## Objective\n",
    "\n",
    "This notebook demonstrates the following:\n",
    "\n",
    "1. Generative AI\n",
    "1. Function calling\n",
    "1. Code Generation\n",
    "\n",
    "Reference:\n",
    "- Learn more about how to use Assistants with our [How-to guide on Assistants](https://learn.microsoft.com/en-us/azure/ai-services/openai/how-to/assistant)\n",
    "- [Assistants OpenAI Overview](https://platform.openai.com/docs/assistants/overview) \n",
    "\n",
    "<!-- - Function Calling with Yfinance to get latest stock prices. Summarization of user provided article. Extract country info from article, extract country, capital and other aspects, and call an API to get more information about each country.\n",
    "\n",
    "This tutorial uses the following Azure AI services:\n",
    "- Access to Azure OpenAI Service - you can apply for access [here](https://aka.ms/oai/access)\n",
    "- Azure OpenAI service - you can create it from instructions [here](https://learn.microsoft.com/en-us/azure/ai-services/openai/how-to/create-resource)\n",
    "- Azure OpenAI Studio - go to [https://oai.azure.com/](https://oai.azure.com/) to work with the Assistants API Playground\n",
    "- A connection to the Azure OpenAI Service with a [Key and Endpoint](https://learn.microsoft.com/en-us/azure/ai-services/openai/chatgpt-quickstart)\n",
    "\n",
    "-->"
   ]
  },
  {
   "cell_type": "markdown",
   "metadata": {},
   "source": [
    "## Time\n",
    "\n",
    "You should expect to spend 10-15 minutes running this sample. "
   ]
  },
  {
   "cell_type": "markdown",
   "metadata": {},
   "source": [
    "## About this example\n",
    "\n",
    "The objective of the provided Python file is to create an Azure OpenAI Assistant named \"Contoso Sales Analysis Assistant\" using the Azure OpenAI API. The assistant is designed to act as a sales analysis assistant, providing information and insights related to the contoso business sales. The script initiates a conversation with the assistant, guiding it through various financial queries and scenarios to showcase its capabilities.\n",
    "\n",
    "### Data\n",
    "This sample uses files from the folder [`data/`](./data/) in this repo. You can clone this repo or copy this folder to make sure you have access to these files when running the sample.\n",
    "\n"
   ]
  },
  {
   "cell_type": "markdown",
   "metadata": {},
   "source": [
    "## Installation\n",
    "\n",
    "Refer to the README.md file in this folder for installation instructions."
   ]
  },
  {
   "cell_type": "markdown",
   "metadata": {},
   "source": [
    "### Load parameters"
   ]
  },
  {
   "cell_type": "code",
   "execution_count": null,
   "metadata": {},
   "outputs": [],
   "source": [
    "import os\n",
    "from dotenv import load_dotenv\n",
    "\n",
    "load_dotenv(\".env\")\n",
    "api_endpoint = os.getenv(\"OPENAI_URI\")\n",
    "api_key = os.getenv(\"OPENAI_KEY\")\n",
    "api_version = os.getenv(\"OPENAI_VERSION\")\n",
    "api_deployment_name = os.getenv(\"OPENAI_GPT_DEPLOYMENT\")\n",
    "\n",
    "DATA_FOLDER = \"data/\"\n",
    "\n",
    "assistant = None\n",
    "thread = None\n",
    "should_cleanup: bool = True"
   ]
  },
  {
   "cell_type": "markdown",
   "metadata": {},
   "source": [
    "### Import Libraries and open the contoso-sales SQLite database"
   ]
  },
  {
   "cell_type": "code",
   "execution_count": null,
   "metadata": {},
   "outputs": [],
   "source": [
    "import io\n",
    "import json\n",
    "from datetime import datetime\n",
    "from typing import Any, Callable, Dict, Iterable\n",
    "from PIL import Image\n",
    "from IPython.display import display, HTML\n",
    "import sqlite3\n",
    "import pandas as pd\n",
    "\n",
    "from openai import AzureOpenAI\n",
    "from openai.types.beta.threads import Message, TextContentBlock, ImageFileContentBlock, Run\n",
    "from openai.types.beta.thread import Thread\n",
    "\n",
    "con = sqlite3.connect(\"./database/contoso-sales.db\")"
   ]
  },
  {
   "cell_type": "code",
   "execution_count": null,
   "metadata": {},
   "outputs": [],
   "source": [
    "def log_message(message: str):\n",
    "    display(HTML(f'<span style=\"color: red;\"><strong>{message}</strong></span>'))"
   ]
  },
  {
   "cell_type": "markdown",
   "metadata": {},
   "source": [
    "### Get revenue by region\n",
    "\n",
    "Called by the Assistant"
   ]
  },
  {
   "cell_type": "code",
   "execution_count": null,
   "metadata": {},
   "outputs": [],
   "source": [
    "def get_revenue_by_region() -> pd.DataFrame:\n",
    "    query = \"\"\"\n",
    "        SELECT  \n",
    "            region AS Region,  \n",
    "            SUM(number_of_orders) AS Orders,  \n",
    "            SUM(revenue) AS Revenue,  \n",
    "            SUM(discount) AS Discount,  \n",
    "            SUM(shipping_cost) AS ShippingCost,\n",
    "            SUM(revenue) - SUM(discount) - SUM(shipping_cost) AS NetRevenue  \n",
    "        FROM \n",
    "            sales_data\n",
    "        GROUP BY Region ORDER BY NetRevenue DESC\n",
    "    \"\"\"\n",
    "    return pd.read_sql_query(query, con)"
   ]
  },
  {
   "cell_type": "markdown",
   "metadata": {},
   "source": [
    "### Get sales by month\n",
    "\n",
    "Called by the Assistant. Expects month and year as input."
   ]
  },
  {
   "cell_type": "code",
   "execution_count": null,
   "metadata": {},
   "outputs": [],
   "source": [
    "def get_sales_by_month(month: int, year: int) -> pd.DataFrame:\n",
    "    query = \"\"\"\n",
    "        SELECT   \n",
    "            year || '-' || CASE \n",
    "                WHEN month < 10 THEN '0' || month \n",
    "                ELSE month \n",
    "                END AS Month,\n",
    "        SUM(revenue) AS Revenue,\n",
    "        SUM(revenue) - SUM(discount) - SUM(shipping_cost) AS NetRevenue\n",
    "        FROM sales_data \n",
    "        WHERE Month = ? and Year = ?\n",
    "        GROUP BY Month, Year \n",
    "        ORDER BY Year, Month\n",
    "    \"\"\"\n",
    "\n",
    "    return pd.read_sql_query(query, con, params=[month, year])"
   ]
  },
  {
   "cell_type": "markdown",
   "metadata": {},
   "source": [
    "### Create an AzureOpenAI client"
   ]
  },
  {
   "cell_type": "code",
   "execution_count": null,
   "metadata": {},
   "outputs": [],
   "source": [
    "client = AzureOpenAI(api_key=api_key, api_version=api_version, azure_endpoint=api_endpoint)"
   ]
  },
  {
   "cell_type": "markdown",
   "metadata": {},
   "source": [
    "### Define the Assistant tools\n",
    "\n",
    "The are three tools defined:\n",
    "\n",
    "1. code_interpreter\n",
    "1. `get_revenue_by_region`: This function returns the revenue by region from the SQLite database.\n",
    "1. `get_sales_by_month`: This function returns the sales by month from the SQLite database.\n"
   ]
  },
  {
   "cell_type": "code",
   "execution_count": null,
   "metadata": {},
   "outputs": [],
   "source": [
    "tools_list = [\n",
    "    {\n",
    "        \"type\": \"code_interpreter\"\n",
    "    },\n",
    "    {\n",
    "        \"type\": \"function\",\n",
    "        \"function\": {\"name\": \"get_revenue_by_region\", \"description\": \"Get the sales revenue for Contoso by region.\"},\n",
    "    },\n",
    "    {\n",
    "        \"type\": \"function\",\n",
    "        \"function\": {\n",
    "            \"name\": \"get_sales_by_month\",\n",
    "            \"description\": \"Get the Contoso sales by month.\",\n",
    "            \"parameters\": {\n",
    "                \"type\": \"object\",\n",
    "                \"properties\": {\n",
    "                    \"month\": {\n",
    "                        \"type\": \"integer\",\n",
    "                        \"description\": \"The Contoso sales for a specific month.\",\n",
    "                    },\n",
    "                    \"year\": {\n",
    "                        \"type\": \"integer\",\n",
    "                        \"description\": \"The Contoso sales for a specific year.\",\n",
    "                    },\n",
    "                },\n",
    "                \"required\": [\"month\", \"year\"],\n",
    "            },\n",
    "        },\n",
    "    },\n",
    "]"
   ]
  },
  {
   "cell_type": "markdown",
   "metadata": {},
   "source": [
    "### Process Function calling\n",
    "\n",
    "Loops through the conversation and calls the appropriate function based on the user input."
   ]
  },
  {
   "cell_type": "code",
   "execution_count": null,
   "metadata": {},
   "outputs": [],
   "source": [
    "def call_functions(client: AzureOpenAI, thread: Thread, run: Run) -> None:\n",
    "    tool_outputs = []\n",
    "    function_map: Dict[str, Callable[[Any], pd.DataFrame]] = {\n",
    "        \"get_revenue_by_region\": lambda _: get_revenue_by_region(),\n",
    "        \"get_sales_by_month\": lambda args: get_sales_by_month(args[\"month\"], args[\"year\"]),\n",
    "    }\n",
    "\n",
    "    required_actions = run.required_action.submit_tool_outputs.model_dump()\n",
    "\n",
    "    for action in required_actions[\"tool_calls\"]:\n",
    "        func_name = action[\"function\"][\"name\"]\n",
    "        arguments = json.loads(action[\"function\"][\"arguments\"])\n",
    "\n",
    "        log_message(f\"Function Name: {func_name}, Function Args: {arguments}\")\n",
    "\n",
    "        function = function_map.get(func_name)\n",
    "        if not function:\n",
    "            raise ValueError(f\"Unknown function: {func_name}\")\n",
    "\n",
    "        df = function(arguments)\n",
    "        tool_outputs.append({\"tool_call_id\": action[\"id\"], \"output\": df.to_string(index=False)})\n",
    "\n",
    "    client.beta.threads.runs.submit_tool_outputs(thread_id=thread.id, run_id=run.id, tool_outputs=tool_outputs)"
   ]
  },
  {
   "cell_type": "markdown",
   "metadata": {},
   "source": [
    "### Format and display the Assistant Messages for text and images\n",
    "\n",
    "Utility functions to format and display the Assistant messages."
   ]
  },
  {
   "cell_type": "code",
   "execution_count": null,
   "metadata": {},
   "outputs": [],
   "source": [
    "def format_messages(messages: Iterable[Message]) -> None:\n",
    "    # Get all the messages till the last user message\n",
    "    message_list = []\n",
    "    for message in messages:\n",
    "        message_list.append(message)\n",
    "        if message.role == \"user\":\n",
    "            break\n",
    "    message_list.reverse()\n",
    "        \n",
    "\n",
    "    for message in message_list:\n",
    "        for item in message.content:\n",
    "            if isinstance(item, TextContentBlock):\n",
    "                print(f\"{message.role}:\\n{item.text.value}\\n\")\n",
    "            elif isinstance(item, ImageFileContentBlock):\n",
    "                image = Image.open(io.BytesIO(client.files.content(item.image_file.file_id).read()))\n",
    "                image = image.resize((image.width // 2, image.height // 2), Image.LANCZOS)\n",
    "                display(image)"
   ]
  },
  {
   "cell_type": "markdown",
   "metadata": {},
   "source": [
    "### Process the user messages\n",
    "\n",
    "Loops through the conversation and calls the appropriate function based on the user input."
   ]
  },
  {
   "cell_type": "code",
   "execution_count": null,
   "metadata": {},
   "outputs": [],
   "source": [
    "def process_message(content: str) -> None:\n",
    "    client.beta.threads.messages.create(thread_id=thread.id, role=\"user\", content=content)\n",
    "\n",
    "    completed_run = client.beta.threads.runs.create(thread_id=thread.id, assistant_id=assistant.id)\n",
    "\n",
    "    log_message(\"processing starting\")\n",
    "\n",
    "    while True:\n",
    "        completed_run = client.beta.threads.runs.poll(run_id=completed_run.id, thread_id=thread.id)\n",
    "        if completed_run.status in [\"completed\", \"failed\", \"expired\", \"cancelled\", \"incomplete\"]:\n",
    "            messages = client.beta.threads.messages.list(thread_id=thread.id)\n",
    "            format_messages(messages)\n",
    "            break\n",
    "        elif completed_run.status == \"requires_action\":\n",
    "            call_functions(client, thread, completed_run)\n",
    "\n",
    "    log_message(\"processing completed\")"
   ]
  },
  {
   "cell_type": "markdown",
   "metadata": {},
   "source": [
    "### Set the Assistant instruction context\n",
    "\n",
    "Sets the context for the conversation. The instructions are equivalent to setting the system message for an OpenAI chat completion."
   ]
  },
  {
   "cell_type": "code",
   "execution_count": null,
   "metadata": {},
   "outputs": [],
   "source": [
    "instructions = (\n",
    "    \"You are an advanced sales analysis assistant for Contoso. Your role is to be polite, professional, helpful, and friendly while assisting users with their sales data inquiries.\",\n",
    "\n",
    "    \"You get all the sales data from this app using the functions provided. This data includes sales revenue categorized by region, product category, product type, and broken down by year and month.\",\n",
    "\n",
    "    \"Here are some examples of the data structure:\",\n",
    "    \"- Regions: Africa, Asia, Europe, America\",\n",
    "    \"- Product Categories: Climbing gear, Camping equipment, Apparel, etc.\",\n",
    "    \"- Product Types: Jackets, Hammocks, Wetsuits, Crampons, Shoes, etc.\",\n",
    "    \"- Months: 2023-01, 2023-08, 2024-02, etc.\",\n",
    "    \"- Revenue: Numeric values representing the sales revenue.\",\n",
    "    \"- Discounts: Numeric values representing the discounts applied to the sales.\",\n",
    "    \"- Shipping Costs: Numeric values representing the shipping costs.\",\n",
    "    \"- Net Revenue: you can calculate user revenue, discount and shipping cost\",\n",
    "\n",
    "    \"Your responsibilities include the following:\",\n",
    "    \"- Analyze and provide insights based on the available sales data.\",\n",
    "    \"- Generate visualizations that help illustrate the data trends.\",\n",
    "    \"- If a question is not related to sales or is outside your scope, respond with 'I'm unable to assist with that. Please contact IT for more assistance.'\",\n",
    "    \"- If the user requests help or types 'help,' provide a list of sample questions that you are equipped to answer.\",\n",
    "    \"- If the user is angry or insulting, remain calm and professional. Respond with, 'I'm here to help you. Let's focus on your sales data inquiries. If you need further assistance, please contact IT for support.'\",\n",
    "\n",
    "    \"Remember to maintain a professional and courteous tone throughout your interactions. Avoid sharing any sensitive or confidential information.\",\n",
    "\n",
    "    f\"The current date and time is: {datetime.now().strftime('%x %X')}.\",\n",
    ")"
   ]
  },
  {
   "cell_type": "markdown",
   "metadata": {},
   "source": [
    "### Create an Assistant Object\n",
    "\n",
    "The Assistant is responsible for managing the conversation with the user."
   ]
  },
  {
   "cell_type": "code",
   "execution_count": null,
   "metadata": {},
   "outputs": [],
   "source": [
    "assistant = client.beta.assistants.create(\n",
    "    name=\"Portfolio Management Assistant\",\n",
    "    model=api_deployment_name,\n",
    "    instructions=str(instructions),\n",
    "    tools=tools_list,\n",
    ")"
   ]
  },
  {
   "cell_type": "markdown",
   "metadata": {},
   "source": [
    "### Create a thread\n",
    "\n",
    "Threads in the OpenAI Assistant API are designed to be session-based.\n",
    "Each thread is a conversation between the user and the assistant."
   ]
  },
  {
   "cell_type": "code",
   "execution_count": null,
   "metadata": {},
   "outputs": [],
   "source": [
    "thread = client.beta.threads.create()"
   ]
  },
  {
   "cell_type": "markdown",
   "metadata": {},
   "source": [
    "### Have a conversation with the Assistant"
   ]
  },
  {
   "cell_type": "code",
   "execution_count": null,
   "metadata": {},
   "outputs": [],
   "source": [
    "process_message(\"what was the total sales data for region? Display as a table.\")"
   ]
  },
  {
   "cell_type": "code",
   "execution_count": null,
   "metadata": {},
   "outputs": [],
   "source": [
    "process_message(\"Pie chart of sales by region. Use different colors for each region.\")"
   ]
  },
  {
   "cell_type": "code",
   "execution_count": null,
   "metadata": {},
   "outputs": [],
   "source": [
    "process_message(\"Calculate the worldwide sales revenue. Display as a table.\")"
   ]
  },
  {
   "cell_type": "code",
   "execution_count": null,
   "metadata": {},
   "outputs": [],
   "source": [
    "process_message(\"what were the sales for March in 2023? Display as a table.\")"
   ]
  },
  {
   "cell_type": "markdown",
   "metadata": {},
   "source": [
    "## Cleaning up"
   ]
  },
  {
   "cell_type": "code",
   "execution_count": null,
   "metadata": {},
   "outputs": [],
   "source": [
    "if should_cleanup:\n",
    "    client.beta.assistants.delete(assistant.id)\n",
    "    client.beta.threads.delete(thread.id)\n",
    "    con.close()"
   ]
  }
 ],
 "metadata": {
  "kernelspec": {
   "display_name": "Python 3 (ipykernel)",
   "language": "python",
   "name": "python3"
  },
  "language_info": {
   "codemirror_mode": {
    "name": "ipython",
    "version": 3
   },
   "file_extension": ".py",
   "mimetype": "text/x-python",
   "name": "python",
   "nbconvert_exporter": "python",
   "pygments_lexer": "ipython3",
   "version": "3.11.9"
  }
 },
 "nbformat": 4,
 "nbformat_minor": 4
}
