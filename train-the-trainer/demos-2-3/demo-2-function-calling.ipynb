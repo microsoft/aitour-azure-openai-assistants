{
 "cells": [
  {
   "cell_type": "markdown",
   "metadata": {},
   "source": [
    "# Introduction to Azure OpenAI Function Calling\n"
   ]
  },
  {
   "cell_type": "markdown",
   "metadata": {},
   "source": [
    "## Objective\n",
    "\n",
    "This notebook demonstrates the following:\n",
    "\n",
    "1. Generative AI\n",
    "1. Function calling\n"
   ]
  },
  {
   "cell_type": "markdown",
   "metadata": {},
   "source": [
    "## Time\n",
    "\n",
    "You should expect to spend 2 minutes running this sample.\n"
   ]
  },
  {
   "cell_type": "markdown",
   "metadata": {},
   "source": [
    "## About this example\n",
    "\n",
    "The objective of the provided Python file is to learn about Azure OpenAI Function Calling using the Azure OpenAI API.\n"
   ]
  },
  {
   "cell_type": "markdown",
   "metadata": {},
   "source": [
    "## Installation\n",
    "\n",
    "Refer to the README.md file in this folder for installation instructions.\n"
   ]
  },
  {
   "cell_type": "markdown",
   "metadata": {},
   "source": [
    "## Parameters\n"
   ]
  },
  {
   "cell_type": "code",
   "execution_count": null,
   "metadata": {},
   "outputs": [],
   "source": [
    "import os\n",
    "import json\n",
    "import sqlite3\n",
    "import pandas as pd\n",
    "from openai import AzureOpenAI\n",
    "from dotenv import load_dotenv\n",
    "from IPython.display import display, HTML\n",
    "from typing import Any, Callable, Dict\n",
    "\n",
    "load_dotenv(\".env\")\n",
    "\n",
    "api_endpoint = os.getenv(\"OPENAI_URI\")\n",
    "api_key = os.getenv(\"OPENAI_KEY\")\n",
    "api_version = os.getenv(\"OPENAI_VERSION\")\n",
    "api_deployment_name = os.getenv(\"OPENAI_GPT_DEPLOYMENT\")\n",
    "\n",
    "con = sqlite3.connect(\"./database/contoso-sales.db\")\n",
    "\n",
    "system_message = None"
   ]
  },
  {
   "cell_type": "code",
   "execution_count": null,
   "metadata": {},
   "outputs": [],
   "source": [
    "def log_message(message: str):\n",
    "    display(HTML(f'<span style=\"color: red;\"><strong>{message}</strong></span>'))"
   ]
  },
  {
   "cell_type": "code",
   "execution_count": null,
   "metadata": {},
   "outputs": [],
   "source": [
    "def display_wrapped(message: str):\n",
    "    wrapped_content = f'<pre style=\"white-space: pre-wrap; word-wrap: break-word;\">{message}</pre>'\n",
    "    display(HTML(wrapped_content))"
   ]
  },
  {
   "cell_type": "code",
   "execution_count": null,
   "metadata": {},
   "outputs": [],
   "source": [
    "def get_revenue_by_region(region: str = None) -> pd.DataFrame:\n",
    "    params = []\n",
    "    query = \"\"\"\n",
    "        SELECT  \n",
    "            region AS Region,  \n",
    "            SUM(number_of_orders) AS Orders,  \n",
    "            SUM(revenue) AS Revenue,  \n",
    "            SUM(discount) AS Discount,  \n",
    "            SUM(shipping_cost) AS ShippingCost,\n",
    "            SUM(revenue) - SUM(discount) - SUM(shipping_cost) AS NetRevenue  \n",
    "        FROM \n",
    "            sales_data\n",
    "    \"\"\"\n",
    "\n",
    "    if region:\n",
    "        query += \"WHERE UPPER(Region) = UPPER(?)\\n\"\n",
    "        params.append(region)\n",
    "\n",
    "    query += \"GROUP BY Region\\n\"\n",
    "    query += \"ORDER BY NetRevenue DESC\"\n",
    "\n",
    "    return pd.read_sql_query(query, con, params=params)"
   ]
  },
  {
   "cell_type": "code",
   "execution_count": null,
   "metadata": {},
   "outputs": [],
   "source": [
    "def get_sales_by_month(month: int, year: int) -> pd.DataFrame:\n",
    "    query = \"\"\"\n",
    "        SELECT   \n",
    "            year || '-' || CASE \n",
    "                WHEN month < 10 THEN '0' || month \n",
    "                ELSE month \n",
    "                END AS Month,\n",
    "        SUM(revenue) AS Revenue,\n",
    "        SUM(revenue) - SUM(discount) - SUM(shipping_cost) AS NetRevenue\n",
    "        FROM sales_data \n",
    "        WHERE Month = ?  AND Year = ?\n",
    "        GROUP BY Month, Year \n",
    "        ORDER BY Year, Month\n",
    "    \"\"\"\n",
    "\n",
    "    return pd.read_sql_query(query, con, params=[month, year])"
   ]
  },
  {
   "cell_type": "markdown",
   "metadata": {},
   "source": [
    "### Create an AzureOpenAI client\n"
   ]
  },
  {
   "cell_type": "code",
   "execution_count": null,
   "metadata": {},
   "outputs": [],
   "source": [
    "client = AzureOpenAI(api_key=api_key, api_version=api_version, azure_endpoint=api_endpoint)"
   ]
  },
  {
   "cell_type": "markdown",
   "metadata": {},
   "source": [
    "### Define the Assistant tools\n",
    "\n",
    "The tools list defines the tools that the OpenAI Chat Completion will look for when generating a response. It's then up to the application to decide how to use the response. In this example corresponding Python functions are defined for each tool and the response is passed to the appropriate function."
   ]
  },
  {
   "cell_type": "code",
   "execution_count": null,
   "metadata": {},
   "outputs": [],
   "source": [
    "tools_list = [\n",
    "    {\n",
    "        \"type\": \"function\",\n",
    "        \"function\": {\n",
    "            \"name\": \"get_revenue_by_region\",\n",
    "            \"description\": \"Get the sales revenue for Contoso by region.\",\n",
    "            \"parameters\": {\n",
    "                \"type\": \"object\",\n",
    "                \"properties\": {\n",
    "                    \"region\": {\"type\": \"string\"},\n",
    "                },\n",
    "            },\n",
    "        },\n",
    "    },\n",
    "    {\n",
    "        \"type\": \"function\",\n",
    "        \"function\": {\n",
    "            \"name\": \"get_sales_by_month\",\n",
    "            \"description\": \"Get the Contoso sales by month.\",\n",
    "            \"parameters\": {\n",
    "                \"type\": \"object\",\n",
    "                \"properties\": {\n",
    "                    \"month\": {\n",
    "                        \"type\": \"integer\",\n",
    "                        \"description\": \"The Contoso sales for month.\",\n",
    "                    },\n",
    "                    \"year\": {\n",
    "                        \"type\": \"integer\",\n",
    "                        \"description\": \"The Contoso sales for year.\",\n",
    "                    },\n",
    "                },\n",
    "                \"required\": [\"month\", \"year\"],\n",
    "            },\n",
    "        },\n",
    "    },\n",
    "]"
   ]
  },
  {
   "cell_type": "markdown",
   "metadata": {},
   "source": [
    "### Process Function calling\n",
    "\n",
    "Responsible for calling the appropriate function based on the tool detected in the response. The function is called with the response and the tool as arguments.\n"
   ]
  },
  {
   "cell_type": "code",
   "execution_count": null,
   "metadata": {},
   "outputs": [],
   "source": [
    "def call_functions(tool_calls) -> None:\n",
    "    function_map: Dict[str, Callable[[Any], pd.DataFrame]] = {\n",
    "        \"get_revenue_by_region\": lambda args: get_revenue_by_region(args.get(\"region\", None)),\n",
    "        \"get_sales_by_month\": lambda args: get_sales_by_month(args[\"month\"], args[\"year\"]),\n",
    "    }\n",
    "\n",
    "    for tool_call in tool_calls:\n",
    "        func_name = tool_call.function.name\n",
    "        arguments = json.loads(tool_call.function.arguments)\n",
    "\n",
    "        log_message(f\"Function Name: {func_name}, Function Args: {arguments}\")\n",
    "\n",
    "        function = function_map.get(func_name)\n",
    "        if not function:\n",
    "            raise ValueError(f\"Unknown function: {func_name}\")\n",
    "\n",
    "        result_df = function(arguments)\n",
    "        display(result_df)"
   ]
  },
  {
   "cell_type": "markdown",
   "metadata": {},
   "source": [
    "## Instructions for role system assignment\n",
    "\n",
    "Defines the system message for the role system assignment.\n",
    "\n"
   ]
  },
  {
   "cell_type": "code",
   "execution_count": null,
   "metadata": {},
   "outputs": [],
   "source": [
    "system_message = (\n",
    "    \"You are a sales analysis assistant for Contoso. \"\n",
    "    \"Please be polite, professional, helpful, and friendly. \"\n",
    "    \"You get all the sales data from this app using the functions provided. \"\n",
    "    \"If a question is not related to sales or you cannot answer the question, \"\n",
    "    \"say, 'contact IT for more assistance.' \"\n",
    "    \"If the user asks for help or says 'help', provide a list of sample questions that you can answer.\"\n",
    ")"
   ]
  },
  {
   "cell_type": "markdown",
   "metadata": {},
   "source": [
    "## Construct the Assistant and send to Azure OpenAI\n"
   ]
  },
  {
   "cell_type": "code",
   "execution_count": null,
   "metadata": {},
   "outputs": [],
   "source": [
    "def process_message(question: str):\n",
    "\n",
    "    messages = [{\"role\": \"system\", \"content\": system_message}, {\"role\": \"user\", \"content\": question}]\n",
    "\n",
    "    response = client.chat.completions.create(\n",
    "        model=api_deployment_name,\n",
    "        messages=messages,\n",
    "        tools=tools_list,\n",
    "    )\n",
    "\n",
    "    response_message = response.choices[0].message\n",
    "    tool_calls = getattr(response_message, \"tool_calls\", [])\n",
    "\n",
    "    if tool_calls:\n",
    "        call_functions(tool_calls)\n",
    "    else:\n",
    "        display_wrapped(response_message.content)"
   ]
  },
  {
   "cell_type": "code",
   "execution_count": null,
   "metadata": {},
   "outputs": [],
   "source": [
    "process_message(\"What is the revenue for the region of Africa?\")"
   ]
  },
  {
   "cell_type": "code",
   "execution_count": null,
   "metadata": {},
   "outputs": [],
   "source": [
    "process_message(\"What is the revenue for the region of north america?\")"
   ]
  },
  {
   "cell_type": "code",
   "execution_count": null,
   "metadata": {},
   "outputs": [],
   "source": [
    "process_message(\"What is the revenue for all regions?\")"
   ]
  },
  {
   "cell_type": "code",
   "execution_count": null,
   "metadata": {},
   "outputs": [],
   "source": [
    "process_message(\"What were the sales for April 2023?\")"
   ]
  },
  {
   "cell_type": "code",
   "execution_count": null,
   "metadata": {},
   "outputs": [],
   "source": [
    "process_message(\"What is the meaning of life?\")"
   ]
  },
  {
   "cell_type": "markdown",
   "metadata": {},
   "source": []
  }
 ],
 "metadata": {
  "kernelspec": {
   "display_name": "Python 3 (ipykernel)",
   "language": "python",
   "name": "python3"
  },
  "language_info": {
   "codemirror_mode": {
    "name": "ipython",
    "version": 3
   },
   "file_extension": ".py",
   "mimetype": "text/x-python",
   "name": "python",
   "nbconvert_exporter": "python",
   "pygments_lexer": "ipython3",
   "version": "3.11.9"
  }
 },
 "nbformat": 4,
 "nbformat_minor": 4
}
